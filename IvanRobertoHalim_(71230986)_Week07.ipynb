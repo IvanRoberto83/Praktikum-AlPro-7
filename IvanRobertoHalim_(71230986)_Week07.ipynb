{
  "nbformat": 4,
  "nbformat_minor": 0,
  "metadata": {
    "colab": {
      "provenance": []
    },
    "kernelspec": {
      "name": "python3",
      "display_name": "Python 3"
    },
    "language_info": {
      "name": "python"
    }
  },
  "cells": [
    {
      "cell_type": "code",
      "execution_count": 1,
      "metadata": {
        "colab": {
          "base_uri": "https://localhost:8080/"
        },
        "id": "lbDOFzVsPW5H",
        "outputId": "af31b2a3-2e56-4c9c-c4bb-a5dce8d34e0a"
      },
      "outputs": [
        {
          "output_type": "stream",
          "name": "stdout",
          "text": [
            "Masukkan kata pertama : Atma\n",
            "Masukkan kata kedua   : TaAm\n",
            "Dua kata tersebut adalah Anagram\n"
          ]
        }
      ],
      "source": [
        "#Soal 1\n",
        "\n",
        "kata1 = input(\"Masukkan kata pertama : \")\n",
        "kata2 = input(\"Masukkan kata kedua   : \")\n",
        "\n",
        "kata1 = sorted(kata1.lower())\n",
        "kata2 = sorted(kata2.lower())\n",
        "\n",
        "if kata1 == kata2:\n",
        "    print(\"Dua kata tersebut adalah Anagram\")\n",
        "else:\n",
        "    print(\"Dua kata tersebut bukan Anagram\")"
      ]
    },
    {
      "cell_type": "code",
      "source": [
        "#Soal 2\n",
        "\n",
        "kalimat = input(\"Masukkan kalimat : \")\n",
        "kata_cari = input(\"Masukkan kata yang ingin dicari : \")\n",
        "\n",
        "kalimat = kalimat.lower().split()\n",
        "kata_cari = kata_cari.lower()\n",
        "\n",
        "jumlah_muncul = 0\n",
        "\n",
        "for kata in kalimat:\n",
        "    kata = kata.strip(\".\")\n",
        "    if kata == kata_cari:\n",
        "        jumlah_muncul += 1\n",
        "\n",
        "print(f\"Kata '{kata_cari}' ada {jumlah_muncul} buah\")"
      ],
      "metadata": {
        "colab": {
          "base_uri": "https://localhost:8080/"
        },
        "id": "reczyy2bPwYz",
        "outputId": "d9654ac9-144a-4995-9af7-3d2932fbe283"
      },
      "execution_count": 2,
      "outputs": [
        {
          "output_type": "stream",
          "name": "stdout",
          "text": [
            "Masukkan kalimat : Saya mau makan. Makan itu wajib. Mau siang atau malam saya wajib makan\n",
            "Masukkan kata yang ingin dicari : makan\n",
            "Kata 'makan' ada 3 buah\n"
          ]
        }
      ]
    },
    {
      "cell_type": "code",
      "source": [
        "#Soal 3\n",
        "\n",
        "kalimat = input(\"Masukkan kalimat : \")\n",
        "\n",
        "kalimat = kalimat.split()\n",
        "kalimat = \" \".join(kalimat)\n",
        "\n",
        "print(kalimat)"
      ],
      "metadata": {
        "colab": {
          "base_uri": "https://localhost:8080/"
        },
        "id": "jwsrWtbxQHPN",
        "outputId": "6a4f5d53-fba6-4625-80ed-194e1d56a179"
      },
      "execution_count": 3,
      "outputs": [
        {
          "output_type": "stream",
          "name": "stdout",
          "text": [
            "Masukkan kalimat : saya     tidak    suka   memancing  ikan\n",
            "saya tidak suka memancing ikan\n"
          ]
        }
      ]
    },
    {
      "cell_type": "code",
      "source": [
        "#Soal 4\n",
        "\n",
        "kalimat = input(\"Masukkan kalimat : \")\n",
        "\n",
        "kalimat = kalimat.split()\n",
        "\n",
        "terpendek = kalimat[0]\n",
        "terpanjang = kalimat[0]\n",
        "\n",
        "for x in range(len(kalimat)):\n",
        "    if len(kalimat[x]) < len(terpendek):\n",
        "        terpendek = kalimat[x]\n",
        "    elif len(kalimat[x]) > len(terpanjang):\n",
        "        terpanjang = kalimat[x]\n",
        "\n",
        "print(f\"kata terpendek : {terpendek}\")\n",
        "print(f\"kata terpanjang : {terpanjang}\")"
      ],
      "metadata": {
        "colab": {
          "base_uri": "https://localhost:8080/"
        },
        "id": "NB2Jl6IFQSeL",
        "outputId": "a559fb45-26d0-418c-be2e-ea5fe6af27e6"
      },
      "execution_count": 4,
      "outputs": [
        {
          "output_type": "stream",
          "name": "stdout",
          "text": [
            "Masukkan kalimat : red snakes and a black frog in the pool\n",
            "kata terpendek : a\n",
            "kata terpanjang : snakes\n"
          ]
        }
      ]
    }
  ]
}